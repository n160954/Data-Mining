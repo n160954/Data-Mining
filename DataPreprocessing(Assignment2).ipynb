{
  "nbformat": 4,
  "nbformat_minor": 0,
  "metadata": {
    "colab": {
      "name": "DataPreprocessing(Assignment2).ipynb",
      "provenance": [],
      "collapsed_sections": [],
      "authorship_tag": "ABX9TyNSgeT6w9qZyve8TwnzVSMZ",
      "include_colab_link": true
    },
    "kernelspec": {
      "display_name": "Python 3",
      "name": "python3"
    },
    "language_info": {
      "name": "python"
    }
  },
  "cells": [
    {
      "cell_type": "markdown",
      "metadata": {
        "id": "view-in-github",
        "colab_type": "text"
      },
      "source": [
        "<a href=\"https://colab.research.google.com/github/n160954/Data-Mining/blob/main/DataPreprocessing(Assignment2).ipynb\" target=\"_parent\"><img src=\"https://colab.research.google.com/assets/colab-badge.svg\" alt=\"Open In Colab\"/></a>"
      ]
    },
    {
      "cell_type": "code",
      "metadata": {
        "id": "J4wt1ZL46890"
      },
      "source": [
        "import pandas as pd\n",
        "import numpy as np"
      ],
      "execution_count": 1,
      "outputs": []
    },
    {
      "cell_type": "code",
      "metadata": {
        "colab": {
          "base_uri": "https://localhost:8080/",
          "height": 204
        },
        "id": "p2KwQOgP_rRi",
        "outputId": "fdd79b24-fcc9-46d8-b5f7-1717fbd2cc05"
      },
      "source": [
        "df=pd.read_csv(r'/IBRD_Balance_Sheet__FY2010 - IBRD_Balance_Sheet__FY2010.csv')\n",
        "df.head()"
      ],
      "execution_count": 2,
      "outputs": [
        {
          "output_type": "execute_result",
          "data": {
            "text/html": [
              "<div>\n",
              "<style scoped>\n",
              "    .dataframe tbody tr th:only-of-type {\n",
              "        vertical-align: middle;\n",
              "    }\n",
              "\n",
              "    .dataframe tbody tr th {\n",
              "        vertical-align: top;\n",
              "    }\n",
              "\n",
              "    .dataframe thead th {\n",
              "        text-align: right;\n",
              "    }\n",
              "</style>\n",
              "<table border=\"1\" class=\"dataframe\">\n",
              "  <thead>\n",
              "    <tr style=\"text-align: right;\">\n",
              "      <th></th>\n",
              "      <th>Category</th>\n",
              "      <th>Line Item</th>\n",
              "      <th>Fiscal Year</th>\n",
              "      <th>Amount (US$, Millions)</th>\n",
              "    </tr>\n",
              "  </thead>\n",
              "  <tbody>\n",
              "    <tr>\n",
              "      <th>0</th>\n",
              "      <td>Assets</td>\n",
              "      <td>Due from Banks - Unrestricted currencies</td>\n",
              "      <td>2010</td>\n",
              "      <td>1581.0</td>\n",
              "    </tr>\n",
              "    <tr>\n",
              "      <th>1</th>\n",
              "      <td>Assets</td>\n",
              "      <td>Due from Banks - Unrestricted currencies</td>\n",
              "      <td>2009</td>\n",
              "      <td>2380.0</td>\n",
              "    </tr>\n",
              "    <tr>\n",
              "      <th>2</th>\n",
              "      <td>Assets</td>\n",
              "      <td>Due from Banks - Currencies subject to restric...</td>\n",
              "      <td>2010</td>\n",
              "      <td>222.0</td>\n",
              "    </tr>\n",
              "    <tr>\n",
              "      <th>3</th>\n",
              "      <td>Assets</td>\n",
              "      <td>Due from Banks - Currencies subject to restric...</td>\n",
              "      <td>2009</td>\n",
              "      <td>664.0</td>\n",
              "    </tr>\n",
              "    <tr>\n",
              "      <th>4</th>\n",
              "      <td>Assets</td>\n",
              "      <td>Investments - Trading</td>\n",
              "      <td>2010</td>\n",
              "      <td>36012.0</td>\n",
              "    </tr>\n",
              "  </tbody>\n",
              "</table>\n",
              "</div>"
            ],
            "text/plain": [
              "  Category  ... Amount (US$, Millions)\n",
              "0   Assets  ...                 1581.0\n",
              "1   Assets  ...                 2380.0\n",
              "2   Assets  ...                  222.0\n",
              "3   Assets  ...                  664.0\n",
              "4   Assets  ...                36012.0\n",
              "\n",
              "[5 rows x 4 columns]"
            ]
          },
          "metadata": {
            "tags": []
          },
          "execution_count": 2
        }
      ]
    },
    {
      "cell_type": "code",
      "metadata": {
        "colab": {
          "base_uri": "https://localhost:8080/"
        },
        "id": "lRDB_5yflJjV",
        "outputId": "2eea7dec-ed64-4935-8918-0a5e4e7c4ae7"
      },
      "source": [
        "df.value_counts()"
      ],
      "execution_count": 3,
      "outputs": [
        {
          "output_type": "execute_result",
          "data": {
            "text/plain": [
              "Category     Line Item                                                                                                                                   Fiscal Year  Amount (US$, Millions)\n",
              "Liabilities  Securities Sold under Repurchase Agreements, Securities Lent under Securities Lending Agreements, and Payable for Cash Collateral Received  2010          998.0                    1\n",
              "Assets       Securities purchased under resale agreements                                                                                                2009          33.0                     1\n",
              "             Receivables to maintain value of currency holdings on account of subscribed capital                                                         2009          176.0                    1\n",
              "             Other Receivables -Receivables from investment securities traded                                                                            2010          47.0                     1\n",
              "                                                                                                                                                         2009          95.0                     1\n",
              "                                                                                                                                                                                               ..\n",
              "Equity       Deferred Amounts to Maintain Value of Currency Holdings                                                                                     2009          359.0                    1\n",
              "             Capital Stock - Paid-in capital                                                                                                             2010          11492.0                  1\n",
              "                                                                                                                                                         2009          11491.0                  1\n",
              "             Accumulated Other Comorehensive Loss                                                                                                        2010         -3043.0                   1\n",
              "Assets       Derivative Assets - Borrowings                                                                                                              2009          82793.0                  1\n",
              "Length: 61, dtype: int64"
            ]
          },
          "metadata": {
            "tags": []
          },
          "execution_count": 3
        }
      ]
    },
    {
      "cell_type": "markdown",
      "metadata": {
        "id": "0fetpJuZoVjP"
      },
      "source": [
        "#2. Write python code to count number of missing values, replace missing values with median of that variable,  find the outlier/noisy data, and replace it with last value of the corresponding variable"
      ]
    },
    {
      "cell_type": "code",
      "metadata": {
        "colab": {
          "base_uri": "https://localhost:8080/"
        },
        "id": "xqd8gj2rmuUL",
        "outputId": "3e51461f-81a0-4315-f89f-8e12909cf21d"
      },
      "source": [
        "df.isnull().sum()"
      ],
      "execution_count": 4,
      "outputs": [
        {
          "output_type": "execute_result",
          "data": {
            "text/plain": [
              "Category                  0\n",
              "Line Item                 0\n",
              "Fiscal Year               0\n",
              "Amount (US$, Millions)    1\n",
              "dtype: int64"
            ]
          },
          "metadata": {
            "tags": []
          },
          "execution_count": 4
        }
      ]
    },
    {
      "cell_type": "code",
      "metadata": {
        "colab": {
          "base_uri": "https://localhost:8080/",
          "height": 204
        },
        "id": "RrPy4CM-ku32",
        "outputId": "9e136790-1bc5-47fb-ce36-49d206760794"
      },
      "source": [
        "median=df[\"Amount (US$, Millions)\"].median()\n",
        "df['Amount (US$, Millions)'].fillna(median,inplace=True)\n",
        "df.head()"
      ],
      "execution_count": 5,
      "outputs": [
        {
          "output_type": "execute_result",
          "data": {
            "text/html": [
              "<div>\n",
              "<style scoped>\n",
              "    .dataframe tbody tr th:only-of-type {\n",
              "        vertical-align: middle;\n",
              "    }\n",
              "\n",
              "    .dataframe tbody tr th {\n",
              "        vertical-align: top;\n",
              "    }\n",
              "\n",
              "    .dataframe thead th {\n",
              "        text-align: right;\n",
              "    }\n",
              "</style>\n",
              "<table border=\"1\" class=\"dataframe\">\n",
              "  <thead>\n",
              "    <tr style=\"text-align: right;\">\n",
              "      <th></th>\n",
              "      <th>Category</th>\n",
              "      <th>Line Item</th>\n",
              "      <th>Fiscal Year</th>\n",
              "      <th>Amount (US$, Millions)</th>\n",
              "    </tr>\n",
              "  </thead>\n",
              "  <tbody>\n",
              "    <tr>\n",
              "      <th>0</th>\n",
              "      <td>Assets</td>\n",
              "      <td>Due from Banks - Unrestricted currencies</td>\n",
              "      <td>2010</td>\n",
              "      <td>1581.0</td>\n",
              "    </tr>\n",
              "    <tr>\n",
              "      <th>1</th>\n",
              "      <td>Assets</td>\n",
              "      <td>Due from Banks - Unrestricted currencies</td>\n",
              "      <td>2009</td>\n",
              "      <td>2380.0</td>\n",
              "    </tr>\n",
              "    <tr>\n",
              "      <th>2</th>\n",
              "      <td>Assets</td>\n",
              "      <td>Due from Banks - Currencies subject to restric...</td>\n",
              "      <td>2010</td>\n",
              "      <td>222.0</td>\n",
              "    </tr>\n",
              "    <tr>\n",
              "      <th>3</th>\n",
              "      <td>Assets</td>\n",
              "      <td>Due from Banks - Currencies subject to restric...</td>\n",
              "      <td>2009</td>\n",
              "      <td>664.0</td>\n",
              "    </tr>\n",
              "    <tr>\n",
              "      <th>4</th>\n",
              "      <td>Assets</td>\n",
              "      <td>Investments - Trading</td>\n",
              "      <td>2010</td>\n",
              "      <td>36012.0</td>\n",
              "    </tr>\n",
              "  </tbody>\n",
              "</table>\n",
              "</div>"
            ],
            "text/plain": [
              "  Category  ... Amount (US$, Millions)\n",
              "0   Assets  ...                 1581.0\n",
              "1   Assets  ...                 2380.0\n",
              "2   Assets  ...                  222.0\n",
              "3   Assets  ...                  664.0\n",
              "4   Assets  ...                36012.0\n",
              "\n",
              "[5 rows x 4 columns]"
            ]
          },
          "metadata": {
            "tags": []
          },
          "execution_count": 5
        }
      ]
    },
    {
      "cell_type": "code",
      "metadata": {
        "colab": {
          "base_uri": "https://localhost:8080/"
        },
        "id": "b60jfs1LoAJr",
        "outputId": "3e65dfe7-653e-43f8-aedb-149ced83512a"
      },
      "source": [
        "df.isnull().sum()"
      ],
      "execution_count": 6,
      "outputs": [
        {
          "output_type": "execute_result",
          "data": {
            "text/plain": [
              "Category                  0\n",
              "Line Item                 0\n",
              "Fiscal Year               0\n",
              "Amount (US$, Millions)    0\n",
              "dtype: int64"
            ]
          },
          "metadata": {
            "tags": []
          },
          "execution_count": 6
        }
      ]
    },
    {
      "cell_type": "code",
      "metadata": {
        "id": "1Ma-uijrj5TN"
      },
      "source": [
        "import matplotlib\n",
        "from matplotlib import pyplot as plt\n",
        "%matplotlib inline\n",
        "matplotlib.rcParams['figure.figsize']=(10,6)"
      ],
      "execution_count": 7,
      "outputs": []
    },
    {
      "cell_type": "code",
      "metadata": {
        "colab": {
          "base_uri": "https://localhost:8080/",
          "height": 297
        },
        "id": "qtD2vTLgk59R",
        "outputId": "e939e6d5-881d-40f8-aea5-b3a43a5592cb"
      },
      "source": [
        "df.describe()"
      ],
      "execution_count": 8,
      "outputs": [
        {
          "output_type": "execute_result",
          "data": {
            "text/html": [
              "<div>\n",
              "<style scoped>\n",
              "    .dataframe tbody tr th:only-of-type {\n",
              "        vertical-align: middle;\n",
              "    }\n",
              "\n",
              "    .dataframe tbody tr th {\n",
              "        vertical-align: top;\n",
              "    }\n",
              "\n",
              "    .dataframe thead th {\n",
              "        text-align: right;\n",
              "    }\n",
              "</style>\n",
              "<table border=\"1\" class=\"dataframe\">\n",
              "  <thead>\n",
              "    <tr style=\"text-align: right;\">\n",
              "      <th></th>\n",
              "      <th>Fiscal Year</th>\n",
              "      <th>Amount (US$, Millions)</th>\n",
              "    </tr>\n",
              "  </thead>\n",
              "  <tbody>\n",
              "    <tr>\n",
              "      <th>count</th>\n",
              "      <td>62.000000</td>\n",
              "      <td>62.000000</td>\n",
              "    </tr>\n",
              "    <tr>\n",
              "      <th>mean</th>\n",
              "      <td>2009.500000</td>\n",
              "      <td>18039.370968</td>\n",
              "    </tr>\n",
              "    <tr>\n",
              "      <th>std</th>\n",
              "      <td>0.504082</td>\n",
              "      <td>33181.875716</td>\n",
              "    </tr>\n",
              "    <tr>\n",
              "      <th>min</th>\n",
              "      <td>2009.000000</td>\n",
              "      <td>-3043.000000</td>\n",
              "    </tr>\n",
              "    <tr>\n",
              "      <th>25%</th>\n",
              "      <td>2009.000000</td>\n",
              "      <td>627.500000</td>\n",
              "    </tr>\n",
              "    <tr>\n",
              "      <th>50%</th>\n",
              "      <td>2009.500000</td>\n",
              "      <td>1581.000000</td>\n",
              "    </tr>\n",
              "    <tr>\n",
              "      <th>75%</th>\n",
              "      <td>2010.000000</td>\n",
              "      <td>18258.500000</td>\n",
              "    </tr>\n",
              "    <tr>\n",
              "      <th>max</th>\n",
              "      <td>2010.000000</td>\n",
              "      <td>128577.000000</td>\n",
              "    </tr>\n",
              "  </tbody>\n",
              "</table>\n",
              "</div>"
            ],
            "text/plain": [
              "       Fiscal Year  Amount (US$, Millions)\n",
              "count    62.000000               62.000000\n",
              "mean   2009.500000            18039.370968\n",
              "std       0.504082            33181.875716\n",
              "min    2009.000000            -3043.000000\n",
              "25%    2009.000000              627.500000\n",
              "50%    2009.500000             1581.000000\n",
              "75%    2010.000000            18258.500000\n",
              "max    2010.000000           128577.000000"
            ]
          },
          "metadata": {
            "tags": []
          },
          "execution_count": 8
        }
      ]
    },
    {
      "cell_type": "code",
      "metadata": {
        "colab": {
          "base_uri": "https://localhost:8080/"
        },
        "id": "eOfnEq9UlNEH",
        "outputId": "2115bb92-fc2f-4fe8-9212-41d9e6d13708"
      },
      "source": [
        "Q1=df['Amount (US$, Millions)'].quantile(0.25)\n",
        "Q3=df['Amount (US$, Millions)'].quantile(0.75)\n",
        "Q1,Q3"
      ],
      "execution_count": 9,
      "outputs": [
        {
          "output_type": "execute_result",
          "data": {
            "text/plain": [
              "(627.5, 18258.5)"
            ]
          },
          "metadata": {
            "tags": []
          },
          "execution_count": 9
        }
      ]
    },
    {
      "cell_type": "code",
      "metadata": {
        "colab": {
          "base_uri": "https://localhost:8080/"
        },
        "id": "9YJJkUhYlcIk",
        "outputId": "be75e243-6ac8-49c6-947e-49299d47babc"
      },
      "source": [
        "IQR=Q3-Q1\n",
        "IQR"
      ],
      "execution_count": 10,
      "outputs": [
        {
          "output_type": "execute_result",
          "data": {
            "text/plain": [
              "17631.0"
            ]
          },
          "metadata": {
            "tags": []
          },
          "execution_count": 10
        }
      ]
    },
    {
      "cell_type": "code",
      "metadata": {
        "colab": {
          "base_uri": "https://localhost:8080/"
        },
        "id": "Kyt-7La5lkzS",
        "outputId": "78aa3c2f-cb00-4ba5-c252-2d28e69c6f14"
      },
      "source": [
        "lower_limit=Q1 - 1.5*IQR\n",
        "upper_limit=Q3 + 1.5*IQR\n",
        "lower_limit,upper_limit"
      ],
      "execution_count": 11,
      "outputs": [
        {
          "output_type": "execute_result",
          "data": {
            "text/plain": [
              "(-25819.0, 44705.0)"
            ]
          },
          "metadata": {
            "tags": []
          },
          "execution_count": 11
        }
      ]
    },
    {
      "cell_type": "markdown",
      "metadata": {
        "id": "ptlgQJHonyKS"
      },
      "source": [
        "# #These are the outliers"
      ]
    },
    {
      "cell_type": "code",
      "metadata": {
        "colab": {
          "base_uri": "https://localhost:8080/",
          "height": 297
        },
        "id": "naM006SKlvEb",
        "outputId": "277e8ca6-fef6-4a3e-97b1-88179a95d5b7"
      },
      "source": [
        "df[(df['Amount (US$, Millions)']<lower_limit)|(df['Amount (US$, Millions)']>upper_limit)]"
      ],
      "execution_count": 12,
      "outputs": [
        {
          "output_type": "execute_result",
          "data": {
            "text/html": [
              "<div>\n",
              "<style scoped>\n",
              "    .dataframe tbody tr th:only-of-type {\n",
              "        vertical-align: middle;\n",
              "    }\n",
              "\n",
              "    .dataframe tbody tr th {\n",
              "        vertical-align: top;\n",
              "    }\n",
              "\n",
              "    .dataframe thead th {\n",
              "        text-align: right;\n",
              "    }\n",
              "</style>\n",
              "<table border=\"1\" class=\"dataframe\">\n",
              "  <thead>\n",
              "    <tr style=\"text-align: right;\">\n",
              "      <th></th>\n",
              "      <th>Category</th>\n",
              "      <th>Line Item</th>\n",
              "      <th>Fiscal Year</th>\n",
              "      <th>Amount (US$, Millions)</th>\n",
              "    </tr>\n",
              "  </thead>\n",
              "  <tbody>\n",
              "    <tr>\n",
              "      <th>14</th>\n",
              "      <td>Assets</td>\n",
              "      <td>Derivative Assets - Borrowings</td>\n",
              "      <td>2010</td>\n",
              "      <td>87457.0</td>\n",
              "    </tr>\n",
              "    <tr>\n",
              "      <th>15</th>\n",
              "      <td>Assets</td>\n",
              "      <td>Derivative Assets - Borrowings</td>\n",
              "      <td>2009</td>\n",
              "      <td>82793.0</td>\n",
              "    </tr>\n",
              "    <tr>\n",
              "      <th>24</th>\n",
              "      <td>Assets</td>\n",
              "      <td>Loans Outstanding - Net loans outstanding</td>\n",
              "      <td>2010</td>\n",
              "      <td>118104.0</td>\n",
              "    </tr>\n",
              "    <tr>\n",
              "      <th>25</th>\n",
              "      <td>Assets</td>\n",
              "      <td>Loans Outstanding - Net loans outstanding</td>\n",
              "      <td>2009</td>\n",
              "      <td>103657.0</td>\n",
              "    </tr>\n",
              "    <tr>\n",
              "      <th>32</th>\n",
              "      <td>Liabilities</td>\n",
              "      <td>Borrowings</td>\n",
              "      <td>2010</td>\n",
              "      <td>128577.0</td>\n",
              "    </tr>\n",
              "    <tr>\n",
              "      <th>33</th>\n",
              "      <td>Liabilities</td>\n",
              "      <td>Borrowings</td>\n",
              "      <td>2009</td>\n",
              "      <td>110040.0</td>\n",
              "    </tr>\n",
              "    <tr>\n",
              "      <th>40</th>\n",
              "      <td>Liabilities</td>\n",
              "      <td>Derivative Liabilities  - Borrowings</td>\n",
              "      <td>2010</td>\n",
              "      <td>78655.0</td>\n",
              "    </tr>\n",
              "    <tr>\n",
              "      <th>41</th>\n",
              "      <td>Liabilities</td>\n",
              "      <td>Derivative Liabilities  - Borrowings</td>\n",
              "      <td>2009</td>\n",
              "      <td>76321.0</td>\n",
              "    </tr>\n",
              "  </tbody>\n",
              "</table>\n",
              "</div>"
            ],
            "text/plain": [
              "       Category  ... Amount (US$, Millions)\n",
              "14       Assets  ...                87457.0\n",
              "15       Assets  ...                82793.0\n",
              "24       Assets  ...               118104.0\n",
              "25       Assets  ...               103657.0\n",
              "32  Liabilities  ...               128577.0\n",
              "33  Liabilities  ...               110040.0\n",
              "40  Liabilities  ...                78655.0\n",
              "41  Liabilities  ...                76321.0\n",
              "\n",
              "[8 rows x 4 columns]"
            ]
          },
          "metadata": {
            "tags": []
          },
          "execution_count": 12
        }
      ]
    },
    {
      "cell_type": "markdown",
      "metadata": {
        "id": "109baIPQn9Ni"
      },
      "source": [
        "#Removing outliers"
      ]
    },
    {
      "cell_type": "code",
      "metadata": {
        "colab": {
          "base_uri": "https://localhost:8080/",
          "height": 1000
        },
        "id": "XZT8eSY6nEmx",
        "outputId": "1bb5725b-442c-4599-bdd7-aea8e995c621"
      },
      "source": [
        "df2_no_outlier=df[(df['Amount (US$, Millions)']>lower_limit)&(df['Amount (US$, Millions)']<upper_limit)]\n",
        "df2_no_outlier"
      ],
      "execution_count": 13,
      "outputs": [
        {
          "output_type": "execute_result",
          "data": {
            "text/html": [
              "<div>\n",
              "<style scoped>\n",
              "    .dataframe tbody tr th:only-of-type {\n",
              "        vertical-align: middle;\n",
              "    }\n",
              "\n",
              "    .dataframe tbody tr th {\n",
              "        vertical-align: top;\n",
              "    }\n",
              "\n",
              "    .dataframe thead th {\n",
              "        text-align: right;\n",
              "    }\n",
              "</style>\n",
              "<table border=\"1\" class=\"dataframe\">\n",
              "  <thead>\n",
              "    <tr style=\"text-align: right;\">\n",
              "      <th></th>\n",
              "      <th>Category</th>\n",
              "      <th>Line Item</th>\n",
              "      <th>Fiscal Year</th>\n",
              "      <th>Amount (US$, Millions)</th>\n",
              "    </tr>\n",
              "  </thead>\n",
              "  <tbody>\n",
              "    <tr>\n",
              "      <th>0</th>\n",
              "      <td>Assets</td>\n",
              "      <td>Due from Banks - Unrestricted currencies</td>\n",
              "      <td>2010</td>\n",
              "      <td>1581.0</td>\n",
              "    </tr>\n",
              "    <tr>\n",
              "      <th>1</th>\n",
              "      <td>Assets</td>\n",
              "      <td>Due from Banks - Unrestricted currencies</td>\n",
              "      <td>2009</td>\n",
              "      <td>2380.0</td>\n",
              "    </tr>\n",
              "    <tr>\n",
              "      <th>2</th>\n",
              "      <td>Assets</td>\n",
              "      <td>Due from Banks - Currencies subject to restric...</td>\n",
              "      <td>2010</td>\n",
              "      <td>222.0</td>\n",
              "    </tr>\n",
              "    <tr>\n",
              "      <th>3</th>\n",
              "      <td>Assets</td>\n",
              "      <td>Due from Banks - Currencies subject to restric...</td>\n",
              "      <td>2009</td>\n",
              "      <td>664.0</td>\n",
              "    </tr>\n",
              "    <tr>\n",
              "      <th>4</th>\n",
              "      <td>Assets</td>\n",
              "      <td>Investments - Trading</td>\n",
              "      <td>2010</td>\n",
              "      <td>36012.0</td>\n",
              "    </tr>\n",
              "    <tr>\n",
              "      <th>5</th>\n",
              "      <td>Assets</td>\n",
              "      <td>Investments - Trading</td>\n",
              "      <td>2009</td>\n",
              "      <td>41012.0</td>\n",
              "    </tr>\n",
              "    <tr>\n",
              "      <th>6</th>\n",
              "      <td>Assets</td>\n",
              "      <td>Securities purchased under resale agreements</td>\n",
              "      <td>2010</td>\n",
              "      <td>289.0</td>\n",
              "    </tr>\n",
              "    <tr>\n",
              "      <th>7</th>\n",
              "      <td>Assets</td>\n",
              "      <td>Securities purchased under resale agreements</td>\n",
              "      <td>2009</td>\n",
              "      <td>33.0</td>\n",
              "    </tr>\n",
              "    <tr>\n",
              "      <th>8</th>\n",
              "      <td>Assets</td>\n",
              "      <td>Nonnegotiable, nonintrest-bearing demand oblig...</td>\n",
              "      <td>2010</td>\n",
              "      <td>1123.0</td>\n",
              "    </tr>\n",
              "    <tr>\n",
              "      <th>9</th>\n",
              "      <td>Assets</td>\n",
              "      <td>Nonnegotiable, nonintrest-bearing demand oblig...</td>\n",
              "      <td>2009</td>\n",
              "      <td>1202.0</td>\n",
              "    </tr>\n",
              "    <tr>\n",
              "      <th>10</th>\n",
              "      <td>Assets</td>\n",
              "      <td>Derivative Assets - Investments</td>\n",
              "      <td>2010</td>\n",
              "      <td>13249.0</td>\n",
              "    </tr>\n",
              "    <tr>\n",
              "      <th>11</th>\n",
              "      <td>Assets</td>\n",
              "      <td>Derivative Assets - Investments</td>\n",
              "      <td>2009</td>\n",
              "      <td>18467.0</td>\n",
              "    </tr>\n",
              "    <tr>\n",
              "      <th>12</th>\n",
              "      <td>Assets</td>\n",
              "      <td>Derivative Assets - Client operations</td>\n",
              "      <td>2010</td>\n",
              "      <td>17633.0</td>\n",
              "    </tr>\n",
              "    <tr>\n",
              "      <th>13</th>\n",
              "      <td>Assets</td>\n",
              "      <td>Derivative Assets - Client operations</td>\n",
              "      <td>2009</td>\n",
              "      <td>19559.0</td>\n",
              "    </tr>\n",
              "    <tr>\n",
              "      <th>16</th>\n",
              "      <td>Assets</td>\n",
              "      <td>Derivative Assets - Other</td>\n",
              "      <td>2010</td>\n",
              "      <td>3287.0</td>\n",
              "    </tr>\n",
              "    <tr>\n",
              "      <th>17</th>\n",
              "      <td>Assets</td>\n",
              "      <td>Derivative Assets - Other</td>\n",
              "      <td>2009</td>\n",
              "      <td>2246.0</td>\n",
              "    </tr>\n",
              "    <tr>\n",
              "      <th>18</th>\n",
              "      <td>Assets</td>\n",
              "      <td>Receivables to maintain value of currency hold...</td>\n",
              "      <td>2010</td>\n",
              "      <td>171.0</td>\n",
              "    </tr>\n",
              "    <tr>\n",
              "      <th>19</th>\n",
              "      <td>Assets</td>\n",
              "      <td>Receivables to maintain value of currency hold...</td>\n",
              "      <td>2009</td>\n",
              "      <td>176.0</td>\n",
              "    </tr>\n",
              "    <tr>\n",
              "      <th>20</th>\n",
              "      <td>Assets</td>\n",
              "      <td>Other Receivables -Receivables from investment...</td>\n",
              "      <td>2010</td>\n",
              "      <td>47.0</td>\n",
              "    </tr>\n",
              "    <tr>\n",
              "      <th>21</th>\n",
              "      <td>Assets</td>\n",
              "      <td>Other Receivables -Receivables from investment...</td>\n",
              "      <td>2009</td>\n",
              "      <td>95.0</td>\n",
              "    </tr>\n",
              "    <tr>\n",
              "      <th>22</th>\n",
              "      <td>Assets</td>\n",
              "      <td>Other Receivables - Accrued income on loans</td>\n",
              "      <td>2010</td>\n",
              "      <td>764.0</td>\n",
              "    </tr>\n",
              "    <tr>\n",
              "      <th>23</th>\n",
              "      <td>Assets</td>\n",
              "      <td>Other Receivables - Accrued income on loans</td>\n",
              "      <td>2009</td>\n",
              "      <td>889.0</td>\n",
              "    </tr>\n",
              "    <tr>\n",
              "      <th>26</th>\n",
              "      <td>Assets</td>\n",
              "      <td>Other Assets - Assets under retirement benefit...</td>\n",
              "      <td>2010</td>\n",
              "      <td>1581.0</td>\n",
              "    </tr>\n",
              "    <tr>\n",
              "      <th>27</th>\n",
              "      <td>Assets</td>\n",
              "      <td>Other Assets - Assets under retirement benefit...</td>\n",
              "      <td>2009</td>\n",
              "      <td>325.0</td>\n",
              "    </tr>\n",
              "    <tr>\n",
              "      <th>28</th>\n",
              "      <td>Assets</td>\n",
              "      <td>Other Assets - Premises and equipment (net)</td>\n",
              "      <td>2010</td>\n",
              "      <td>635.0</td>\n",
              "    </tr>\n",
              "    <tr>\n",
              "      <th>29</th>\n",
              "      <td>Assets</td>\n",
              "      <td>Other Assets - Premises and equipment (net)</td>\n",
              "      <td>2009</td>\n",
              "      <td>625.0</td>\n",
              "    </tr>\n",
              "    <tr>\n",
              "      <th>30</th>\n",
              "      <td>Assets</td>\n",
              "      <td>Other Assets - Miscellaneous</td>\n",
              "      <td>2010</td>\n",
              "      <td>2436.0</td>\n",
              "    </tr>\n",
              "    <tr>\n",
              "      <th>31</th>\n",
              "      <td>Assets</td>\n",
              "      <td>Other Assets - Miscellaneous</td>\n",
              "      <td>2009</td>\n",
              "      <td>1297.0</td>\n",
              "    </tr>\n",
              "    <tr>\n",
              "      <th>34</th>\n",
              "      <td>Liabilities</td>\n",
              "      <td>Securities Sold under Repurchase Agreements, S...</td>\n",
              "      <td>2010</td>\n",
              "      <td>998.0</td>\n",
              "    </tr>\n",
              "    <tr>\n",
              "      <th>35</th>\n",
              "      <td>Liabilities</td>\n",
              "      <td>Securities Sold under Repurchase Agreements, S...</td>\n",
              "      <td>2009</td>\n",
              "      <td>2323.0</td>\n",
              "    </tr>\n",
              "    <tr>\n",
              "      <th>36</th>\n",
              "      <td>Liabilities</td>\n",
              "      <td>Derivative Liabilities - Investments</td>\n",
              "      <td>2010</td>\n",
              "      <td>13360.0</td>\n",
              "    </tr>\n",
              "    <tr>\n",
              "      <th>37</th>\n",
              "      <td>Liabilities</td>\n",
              "      <td>Derivative Liabilities - Investments</td>\n",
              "      <td>2009</td>\n",
              "      <td>18923.0</td>\n",
              "    </tr>\n",
              "    <tr>\n",
              "      <th>38</th>\n",
              "      <td>Liabilities</td>\n",
              "      <td>Derivative Liabilities - Client Operations</td>\n",
              "      <td>2010</td>\n",
              "      <td>17623.0</td>\n",
              "    </tr>\n",
              "    <tr>\n",
              "      <th>39</th>\n",
              "      <td>Liabilities</td>\n",
              "      <td>Derivative Liabilities - Client Operations</td>\n",
              "      <td>2009</td>\n",
              "      <td>19551.0</td>\n",
              "    </tr>\n",
              "    <tr>\n",
              "      <th>42</th>\n",
              "      <td>Liabilities</td>\n",
              "      <td>Derivative Liabilities - Other</td>\n",
              "      <td>2010</td>\n",
              "      <td>780.0</td>\n",
              "    </tr>\n",
              "    <tr>\n",
              "      <th>43</th>\n",
              "      <td>Liabilities</td>\n",
              "      <td>Derivative Liabilities - Other</td>\n",
              "      <td>2009</td>\n",
              "      <td>847.0</td>\n",
              "    </tr>\n",
              "    <tr>\n",
              "      <th>44</th>\n",
              "      <td>Liabilities</td>\n",
              "      <td>Payable to Maintain Value of Currency Holdings...</td>\n",
              "      <td>2010</td>\n",
              "      <td>8.0</td>\n",
              "    </tr>\n",
              "    <tr>\n",
              "      <th>45</th>\n",
              "      <td>Liabilities</td>\n",
              "      <td>Payable to Maintain Value of Currency Holdings...</td>\n",
              "      <td>2009</td>\n",
              "      <td>57.0</td>\n",
              "    </tr>\n",
              "    <tr>\n",
              "      <th>46</th>\n",
              "      <td>Liabilities</td>\n",
              "      <td>Other Liabilities - Payable for investment sec...</td>\n",
              "      <td>2010</td>\n",
              "      <td>307.0</td>\n",
              "    </tr>\n",
              "    <tr>\n",
              "      <th>47</th>\n",
              "      <td>Liabilities</td>\n",
              "      <td>Other Liabilities - Payable for investment sec...</td>\n",
              "      <td>2009</td>\n",
              "      <td>2457.0</td>\n",
              "    </tr>\n",
              "    <tr>\n",
              "      <th>48</th>\n",
              "      <td>Liabilities</td>\n",
              "      <td>Other Liabilities - Accrued charges on borrowings</td>\n",
              "      <td>2010</td>\n",
              "      <td>1190.0</td>\n",
              "    </tr>\n",
              "    <tr>\n",
              "      <th>49</th>\n",
              "      <td>Liabilities</td>\n",
              "      <td>Other Liabilities - Accrued charges on borrowings</td>\n",
              "      <td>2009</td>\n",
              "      <td>1495.0</td>\n",
              "    </tr>\n",
              "    <tr>\n",
              "      <th>50</th>\n",
              "      <td>Liabilities</td>\n",
              "      <td>Other Liabilities - Liabilities under retireme...</td>\n",
              "      <td>2010</td>\n",
              "      <td>1164.0</td>\n",
              "    </tr>\n",
              "    <tr>\n",
              "      <th>51</th>\n",
              "      <td>Liabilities</td>\n",
              "      <td>Other Liabilities - Liabilities under retireme...</td>\n",
              "      <td>2009</td>\n",
              "      <td>662.0</td>\n",
              "    </tr>\n",
              "    <tr>\n",
              "      <th>52</th>\n",
              "      <td>Liabilities</td>\n",
              "      <td>Other Liabilities - Accounts payable and misc ...</td>\n",
              "      <td>2010</td>\n",
              "      <td>2793.0</td>\n",
              "    </tr>\n",
              "    <tr>\n",
              "      <th>53</th>\n",
              "      <td>Liabilities</td>\n",
              "      <td>Other Liabilities - Accounts payable and misc ...</td>\n",
              "      <td>2009</td>\n",
              "      <td>2707.0</td>\n",
              "    </tr>\n",
              "    <tr>\n",
              "      <th>54</th>\n",
              "      <td>Equity</td>\n",
              "      <td>Capital Stock - Paid-in capital</td>\n",
              "      <td>2010</td>\n",
              "      <td>11492.0</td>\n",
              "    </tr>\n",
              "    <tr>\n",
              "      <th>55</th>\n",
              "      <td>Equity</td>\n",
              "      <td>Capital Stock - Paid-in capital</td>\n",
              "      <td>2009</td>\n",
              "      <td>11491.0</td>\n",
              "    </tr>\n",
              "    <tr>\n",
              "      <th>56</th>\n",
              "      <td>Equity</td>\n",
              "      <td>Deferred Amounts to Maintain Value of Currency...</td>\n",
              "      <td>2010</td>\n",
              "      <td>313.0</td>\n",
              "    </tr>\n",
              "    <tr>\n",
              "      <th>57</th>\n",
              "      <td>Equity</td>\n",
              "      <td>Deferred Amounts to Maintain Value of Currency...</td>\n",
              "      <td>2009</td>\n",
              "      <td>359.0</td>\n",
              "    </tr>\n",
              "    <tr>\n",
              "      <th>58</th>\n",
              "      <td>Equity</td>\n",
              "      <td>Retained Earnings</td>\n",
              "      <td>2010</td>\n",
              "      <td>28793.0</td>\n",
              "    </tr>\n",
              "    <tr>\n",
              "      <th>59</th>\n",
              "      <td>Equity</td>\n",
              "      <td>Retained Earnings</td>\n",
              "      <td>2009</td>\n",
              "      <td>29870.0</td>\n",
              "    </tr>\n",
              "    <tr>\n",
              "      <th>60</th>\n",
              "      <td>Equity</td>\n",
              "      <td>Accumulated Other Comorehensive Loss</td>\n",
              "      <td>2010</td>\n",
              "      <td>-3043.0</td>\n",
              "    </tr>\n",
              "    <tr>\n",
              "      <th>61</th>\n",
              "      <td>Equity</td>\n",
              "      <td>Accumulated Other Comorehensive Loss</td>\n",
              "      <td>2009</td>\n",
              "      <td>-1683.0</td>\n",
              "    </tr>\n",
              "  </tbody>\n",
              "</table>\n",
              "</div>"
            ],
            "text/plain": [
              "       Category  ... Amount (US$, Millions)\n",
              "0        Assets  ...                 1581.0\n",
              "1        Assets  ...                 2380.0\n",
              "2        Assets  ...                  222.0\n",
              "3        Assets  ...                  664.0\n",
              "4        Assets  ...                36012.0\n",
              "5        Assets  ...                41012.0\n",
              "6        Assets  ...                  289.0\n",
              "7        Assets  ...                   33.0\n",
              "8        Assets  ...                 1123.0\n",
              "9        Assets  ...                 1202.0\n",
              "10       Assets  ...                13249.0\n",
              "11       Assets  ...                18467.0\n",
              "12       Assets  ...                17633.0\n",
              "13       Assets  ...                19559.0\n",
              "16       Assets  ...                 3287.0\n",
              "17       Assets  ...                 2246.0\n",
              "18       Assets  ...                  171.0\n",
              "19       Assets  ...                  176.0\n",
              "20       Assets  ...                   47.0\n",
              "21       Assets  ...                   95.0\n",
              "22       Assets  ...                  764.0\n",
              "23       Assets  ...                  889.0\n",
              "26       Assets  ...                 1581.0\n",
              "27       Assets  ...                  325.0\n",
              "28       Assets  ...                  635.0\n",
              "29       Assets  ...                  625.0\n",
              "30       Assets  ...                 2436.0\n",
              "31       Assets  ...                 1297.0\n",
              "34  Liabilities  ...                  998.0\n",
              "35  Liabilities  ...                 2323.0\n",
              "36  Liabilities  ...                13360.0\n",
              "37  Liabilities  ...                18923.0\n",
              "38  Liabilities  ...                17623.0\n",
              "39  Liabilities  ...                19551.0\n",
              "42  Liabilities  ...                  780.0\n",
              "43  Liabilities  ...                  847.0\n",
              "44  Liabilities  ...                    8.0\n",
              "45  Liabilities  ...                   57.0\n",
              "46  Liabilities  ...                  307.0\n",
              "47  Liabilities  ...                 2457.0\n",
              "48  Liabilities  ...                 1190.0\n",
              "49  Liabilities  ...                 1495.0\n",
              "50  Liabilities  ...                 1164.0\n",
              "51  Liabilities  ...                  662.0\n",
              "52  Liabilities  ...                 2793.0\n",
              "53  Liabilities  ...                 2707.0\n",
              "54       Equity  ...                11492.0\n",
              "55       Equity  ...                11491.0\n",
              "56       Equity  ...                  313.0\n",
              "57       Equity  ...                  359.0\n",
              "58       Equity  ...                28793.0\n",
              "59       Equity  ...                29870.0\n",
              "60       Equity  ...                -3043.0\n",
              "61       Equity  ...                -1683.0\n",
              "\n",
              "[54 rows x 4 columns]"
            ]
          },
          "metadata": {
            "tags": []
          },
          "execution_count": 13
        }
      ]
    },
    {
      "cell_type": "code",
      "metadata": {
        "colab": {
          "base_uri": "https://localhost:8080/",
          "height": 388
        },
        "id": "qLdYSQ_ymH94",
        "outputId": "6481907b-75c4-4285-89ab-76169faff7e2"
      },
      "source": [
        "plt.hist(df2_no_outlier['Amount (US$, Millions)'],bins=10,rwidth=0.8)\n",
        "plt.xlabel('amount(US$ Millions)')\n",
        "plt.ylabel('count')\n",
        "plt.show()"
      ],
      "execution_count": 14,
      "outputs": [
        {
          "output_type": "display_data",
          "data": {
            "image/png": "[encoded data removed]",
            "text/plain": [
              "<Figure size 720x432 with 1 Axes>"
            ]
          },
          "metadata": {
            "tags": [],
            "needs_background": "light"
          }
        }
      ]
    },
    {
      "cell_type": "code",
      "metadata": {
        "colab": {
          "base_uri": "https://localhost:8080/",
          "height": 402
        },
        "id": "zivJEosGnPno",
        "outputId": "538fe64a-657c-4deb-8de5-7da57b78c09f"
      },
      "source": [
        "plt.scatter(df2_no_outlier['Amount (US$, Millions)'],df2_no_outlier['Fiscal Year'],marker='+',color='purple')"
      ],
      "execution_count": 15,
      "outputs": [
        {
          "output_type": "execute_result",
          "data": {
            "text/plain": [
              "<matplotlib.collections.PathCollection at 0x7eff337c8790>"
            ]
          },
          "metadata": {
            "tags": []
          },
          "execution_count": 15
        },
        {
          "output_type": "display_data",
          "data": {
            "image/png": "[encoded data removed]",
            "text/plain": [
              "<Figure size 720x432 with 1 Axes>"
            ]
          },
          "metadata": {
            "tags": [],
            "needs_background": "light"
          }
        }
      ]
    },
    {
      "cell_type": "markdown",
      "metadata": {
        "id": "lqodc-dek0S_"
      },
      "source": [
        "#1. Write python code for Entropy based discretization, given the data set \"BankAssests\""
      ]
    },
    {
      "cell_type": "code",
      "metadata": {
        "colab": {
          "base_uri": "https://localhost:8080/",
          "height": 419
        },
        "id": "0_QVOzF2EOmZ",
        "outputId": "c1163143-2dae-416c-d1cd-4261fb2c530a"
      },
      "source": [
        "df['dataDiscretization']=pd.cut(df['Amount (US$, Millions)'],5,labels=['Poor','Below_average','Average','Above_Average','Excellent'])\n",
        "df"
      ],
      "execution_count": 16,
      "outputs": [
        {
          "output_type": "execute_result",
          "data": {
            "text/html": [
              "<div>\n",
              "<style scoped>\n",
              "    .dataframe tbody tr th:only-of-type {\n",
              "        vertical-align: middle;\n",
              "    }\n",
              "\n",
              "    .dataframe tbody tr th {\n",
              "        vertical-align: top;\n",
              "    }\n",
              "\n",
              "    .dataframe thead th {\n",
              "        text-align: right;\n",
              "    }\n",
              "</style>\n",
              "<table border=\"1\" class=\"dataframe\">\n",
              "  <thead>\n",
              "    <tr style=\"text-align: right;\">\n",
              "      <th></th>\n",
              "      <th>Category</th>\n",
              "      <th>Line Item</th>\n",
              "      <th>Fiscal Year</th>\n",
              "      <th>Amount (US$, Millions)</th>\n",
              "      <th>dataDiscretization</th>\n",
              "    </tr>\n",
              "  </thead>\n",
              "  <tbody>\n",
              "    <tr>\n",
              "      <th>0</th>\n",
              "      <td>Assets</td>\n",
              "      <td>Due from Banks - Unrestricted currencies</td>\n",
              "      <td>2010</td>\n",
              "      <td>1581.0</td>\n",
              "      <td>Poor</td>\n",
              "    </tr>\n",
              "    <tr>\n",
              "      <th>1</th>\n",
              "      <td>Assets</td>\n",
              "      <td>Due from Banks - Unrestricted currencies</td>\n",
              "      <td>2009</td>\n",
              "      <td>2380.0</td>\n",
              "      <td>Poor</td>\n",
              "    </tr>\n",
              "    <tr>\n",
              "      <th>2</th>\n",
              "      <td>Assets</td>\n",
              "      <td>Due from Banks - Currencies subject to restric...</td>\n",
              "      <td>2010</td>\n",
              "      <td>222.0</td>\n",
              "      <td>Poor</td>\n",
              "    </tr>\n",
              "    <tr>\n",
              "      <th>3</th>\n",
              "      <td>Assets</td>\n",
              "      <td>Due from Banks - Currencies subject to restric...</td>\n",
              "      <td>2009</td>\n",
              "      <td>664.0</td>\n",
              "      <td>Poor</td>\n",
              "    </tr>\n",
              "    <tr>\n",
              "      <th>4</th>\n",
              "      <td>Assets</td>\n",
              "      <td>Investments - Trading</td>\n",
              "      <td>2010</td>\n",
              "      <td>36012.0</td>\n",
              "      <td>Below_average</td>\n",
              "    </tr>\n",
              "    <tr>\n",
              "      <th>...</th>\n",
              "      <td>...</td>\n",
              "      <td>...</td>\n",
              "      <td>...</td>\n",
              "      <td>...</td>\n",
              "      <td>...</td>\n",
              "    </tr>\n",
              "    <tr>\n",
              "      <th>57</th>\n",
              "      <td>Equity</td>\n",
              "      <td>Deferred Amounts to Maintain Value of Currency...</td>\n",
              "      <td>2009</td>\n",
              "      <td>359.0</td>\n",
              "      <td>Poor</td>\n",
              "    </tr>\n",
              "    <tr>\n",
              "      <th>58</th>\n",
              "      <td>Equity</td>\n",
              "      <td>Retained Earnings</td>\n",
              "      <td>2010</td>\n",
              "      <td>28793.0</td>\n",
              "      <td>Below_average</td>\n",
              "    </tr>\n",
              "    <tr>\n",
              "      <th>59</th>\n",
              "      <td>Equity</td>\n",
              "      <td>Retained Earnings</td>\n",
              "      <td>2009</td>\n",
              "      <td>29870.0</td>\n",
              "      <td>Below_average</td>\n",
              "    </tr>\n",
              "    <tr>\n",
              "      <th>60</th>\n",
              "      <td>Equity</td>\n",
              "      <td>Accumulated Other Comorehensive Loss</td>\n",
              "      <td>2010</td>\n",
              "      <td>-3043.0</td>\n",
              "      <td>Poor</td>\n",
              "    </tr>\n",
              "    <tr>\n",
              "      <th>61</th>\n",
              "      <td>Equity</td>\n",
              "      <td>Accumulated Other Comorehensive Loss</td>\n",
              "      <td>2009</td>\n",
              "      <td>-1683.0</td>\n",
              "      <td>Poor</td>\n",
              "    </tr>\n",
              "  </tbody>\n",
              "</table>\n",
              "<p>62 rows × 5 columns</p>\n",
              "</div>"
            ],
            "text/plain": [
              "   Category  ... dataDiscretization\n",
              "0    Assets  ...               Poor\n",
              "1    Assets  ...               Poor\n",
              "2    Assets  ...               Poor\n",
              "3    Assets  ...               Poor\n",
              "4    Assets  ...      Below_average\n",
              "..      ...  ...                ...\n",
              "57   Equity  ...               Poor\n",
              "58   Equity  ...      Below_average\n",
              "59   Equity  ...      Below_average\n",
              "60   Equity  ...               Poor\n",
              "61   Equity  ...               Poor\n",
              "\n",
              "[62 rows x 5 columns]"
            ]
          },
          "metadata": {
            "tags": []
          },
          "execution_count": 16
        }
      ]
    },
    {
      "cell_type": "markdown",
      "metadata": {
        "id": "aAAKjrluogKi"
      },
      "source": [
        "#3. Write python code for stratified sampling, get 30 % of sample from each category from the  Dataset \"Wheather_Hyd\"."
      ]
    },
    {
      "cell_type": "code",
      "metadata": {
        "colab": {
          "base_uri": "https://localhost:8080/"
        },
        "id": "6Xf55hOQl4N4",
        "outputId": "cbddf34e-1a4a-4b33-a3e6-8d7d179d1fdd"
      },
      "source": [
        "df1=pd.read_csv(r'/Hyderabad_June_weather.csv')\n",
        "df1.head()\n",
        "df1.value_counts()"
      ],
      "execution_count": 17,
      "outputs": [
        {
          "output_type": "execute_result",
          "data": {
            "text/plain": [
              "Temp_high  Temp_avg  Temp_low  Dew_High  Dew_Avg  Dew_low  Hum_high  Hum_avg  Hum_low  Sea_high  Sea_avg  Sea_low  Visib_high  Visib_avg  Visib_low  Wind_high  Wind_avg  Preci_High  Preci_sum  event                month  year\n",
              "45         37        28        18        9        5        39        15       7        1009      1004     997      10          6          3          21         10        -           0.00       Normal               June   2013    1\n",
              "35         30        23        21        17       13       88        45       26       1008      1006     1003     8           5          3          14         13        -           0.00       Rain , Thunderstorm  June   2010    1\n",
              "37         31        24        22        20       17       84        57       28       1014      1011     1005     10          4          3          16         6         -           0.00       Rain , Thunderstorm  June   2015    1\n",
              "                                         19       16       74        46       32       1010      1006     999      10          6          3          26         16        -           0.00       Normal               June   2016    1\n",
              "           30        23        23        21       20       78        57       30       1012      1008     1002     10          5          3          14         8         29          0.00       Rain , Thunderstorm  June   2017    1\n",
              "                                                                                                                                                                                                                                    ..\n",
              "39         33        27        24        22       18       66        48       30       1010      1007     1001     10          6          3          19         8         23          0.00       Normal               June   2017    1\n",
              "                               23        17       11       51        35       20       1013      1008     1003     10          6          3          14         5         -           0.00       Normal               June   2014    1\n",
              "                                                  8        48        36       20       1014      1010     1003     10          5          3          14         8         -           0.00       Rain , Thunderstorm  June   2015    1\n",
              "                                         14       6        68        30       12       1014      1009     1003     10          6          3          19         6         -           0.00       Normal               June   2014    1\n",
              "27         24        22        24        22       20       98        82       70       1011      1007     1003     5           4          2          11         5         -           19.05      Rain                 June   2014    1\n",
              "Length: 233, dtype: int64"
            ]
          },
          "metadata": {
            "tags": []
          },
          "execution_count": 17
        }
      ]
    },
    {
      "cell_type": "code",
      "metadata": {
        "id": "hb7YuBdSlRgZ"
      },
      "source": [
        "from sklearn.preprocessing import LabelEncoder"
      ],
      "execution_count": 18,
      "outputs": []
    },
    {
      "cell_type": "code",
      "metadata": {
        "id": "qD3q8DgmlYAE"
      },
      "source": [
        "le_event=LabelEncoder()\n",
        "df1['event_n']=le_event.fit_transform(df1['event'])"
      ],
      "execution_count": 19,
      "outputs": []
    },
    {
      "cell_type": "code",
      "metadata": {
        "colab": {
          "base_uri": "https://localhost:8080/",
          "height": 241
        },
        "id": "28lcPL-3l5Mo",
        "outputId": "29055103-e1cc-4fbd-9386-99f9ee991753"
      },
      "source": [
        "df1.head()"
      ],
      "execution_count": 20,
      "outputs": [
        {
          "output_type": "execute_result",
          "data": {
            "text/html": [
              "<div>\n",
              "<style scoped>\n",
              "    .dataframe tbody tr th:only-of-type {\n",
              "        vertical-align: middle;\n",
              "    }\n",
              "\n",
              "    .dataframe tbody tr th {\n",
              "        vertical-align: top;\n",
              "    }\n",
              "\n",
              "    .dataframe thead th {\n",
              "        text-align: right;\n",
              "    }\n",
              "</style>\n",
              "<table border=\"1\" class=\"dataframe\">\n",
              "  <thead>\n",
              "    <tr style=\"text-align: right;\">\n",
              "      <th></th>\n",
              "      <th>Temp_high</th>\n",
              "      <th>Temp_avg</th>\n",
              "      <th>Temp_low</th>\n",
              "      <th>Dew_High</th>\n",
              "      <th>Dew_Avg</th>\n",
              "      <th>Dew_low</th>\n",
              "      <th>Hum_high</th>\n",
              "      <th>Hum_avg</th>\n",
              "      <th>Hum_low</th>\n",
              "      <th>Sea_high</th>\n",
              "      <th>Sea_avg</th>\n",
              "      <th>Sea_low</th>\n",
              "      <th>Visib_high</th>\n",
              "      <th>Visib_avg</th>\n",
              "      <th>Visib_low</th>\n",
              "      <th>Wind_high</th>\n",
              "      <th>Wind_avg</th>\n",
              "      <th>Preci_High</th>\n",
              "      <th>Preci_sum</th>\n",
              "      <th>event</th>\n",
              "      <th>month</th>\n",
              "      <th>year</th>\n",
              "      <th>event_n</th>\n",
              "    </tr>\n",
              "  </thead>\n",
              "  <tbody>\n",
              "    <tr>\n",
              "      <th>0</th>\n",
              "      <td>39</td>\n",
              "      <td>33</td>\n",
              "      <td>27</td>\n",
              "      <td>21</td>\n",
              "      <td>16</td>\n",
              "      <td>10</td>\n",
              "      <td>70</td>\n",
              "      <td>40</td>\n",
              "      <td>17</td>\n",
              "      <td>1012</td>\n",
              "      <td>1009</td>\n",
              "      <td>1007</td>\n",
              "      <td>8</td>\n",
              "      <td>5</td>\n",
              "      <td>3</td>\n",
              "      <td>24</td>\n",
              "      <td>16</td>\n",
              "      <td>-</td>\n",
              "      <td>0.0</td>\n",
              "      <td>Rain , Thunderstorm</td>\n",
              "      <td>June</td>\n",
              "      <td>2010</td>\n",
              "      <td>2</td>\n",
              "    </tr>\n",
              "    <tr>\n",
              "      <th>1</th>\n",
              "      <td>36</td>\n",
              "      <td>31</td>\n",
              "      <td>26</td>\n",
              "      <td>17</td>\n",
              "      <td>14</td>\n",
              "      <td>12</td>\n",
              "      <td>57</td>\n",
              "      <td>35</td>\n",
              "      <td>25</td>\n",
              "      <td>1014</td>\n",
              "      <td>1010</td>\n",
              "      <td>1008</td>\n",
              "      <td>5</td>\n",
              "      <td>5</td>\n",
              "      <td>3</td>\n",
              "      <td>24</td>\n",
              "      <td>16</td>\n",
              "      <td>-</td>\n",
              "      <td>0.0</td>\n",
              "      <td>Normal</td>\n",
              "      <td>June</td>\n",
              "      <td>2010</td>\n",
              "      <td>0</td>\n",
              "    </tr>\n",
              "    <tr>\n",
              "      <th>2</th>\n",
              "      <td>38</td>\n",
              "      <td>32</td>\n",
              "      <td>27</td>\n",
              "      <td>17</td>\n",
              "      <td>14</td>\n",
              "      <td>11</td>\n",
              "      <td>54</td>\n",
              "      <td>34</td>\n",
              "      <td>20</td>\n",
              "      <td>1014</td>\n",
              "      <td>1012</td>\n",
              "      <td>1008</td>\n",
              "      <td>7</td>\n",
              "      <td>6</td>\n",
              "      <td>3</td>\n",
              "      <td>24</td>\n",
              "      <td>13</td>\n",
              "      <td>-</td>\n",
              "      <td>0.0</td>\n",
              "      <td>Normal</td>\n",
              "      <td>June</td>\n",
              "      <td>2010</td>\n",
              "      <td>0</td>\n",
              "    </tr>\n",
              "    <tr>\n",
              "      <th>3</th>\n",
              "      <td>38</td>\n",
              "      <td>33</td>\n",
              "      <td>29</td>\n",
              "      <td>18</td>\n",
              "      <td>14</td>\n",
              "      <td>10</td>\n",
              "      <td>48</td>\n",
              "      <td>30</td>\n",
              "      <td>18</td>\n",
              "      <td>1013</td>\n",
              "      <td>1010</td>\n",
              "      <td>1008</td>\n",
              "      <td>8</td>\n",
              "      <td>6</td>\n",
              "      <td>3</td>\n",
              "      <td>21</td>\n",
              "      <td>16</td>\n",
              "      <td>-</td>\n",
              "      <td>0.0</td>\n",
              "      <td>Normal</td>\n",
              "      <td>June</td>\n",
              "      <td>2010</td>\n",
              "      <td>0</td>\n",
              "    </tr>\n",
              "    <tr>\n",
              "      <th>4</th>\n",
              "      <td>37</td>\n",
              "      <td>33</td>\n",
              "      <td>30</td>\n",
              "      <td>15</td>\n",
              "      <td>13</td>\n",
              "      <td>11</td>\n",
              "      <td>37</td>\n",
              "      <td>28</td>\n",
              "      <td>21</td>\n",
              "      <td>1012</td>\n",
              "      <td>1009</td>\n",
              "      <td>1006</td>\n",
              "      <td>8</td>\n",
              "      <td>7</td>\n",
              "      <td>3</td>\n",
              "      <td>26</td>\n",
              "      <td>16</td>\n",
              "      <td>-</td>\n",
              "      <td>0.0</td>\n",
              "      <td>Normal</td>\n",
              "      <td>June</td>\n",
              "      <td>2010</td>\n",
              "      <td>0</td>\n",
              "    </tr>\n",
              "  </tbody>\n",
              "</table>\n",
              "</div>"
            ],
            "text/plain": [
              "   Temp_high  Temp_avg  Temp_low  ...  month  year  event_n\n",
              "0         39        33        27  ...   June  2010        2\n",
              "1         36        31        26  ...   June  2010        0\n",
              "2         38        32        27  ...   June  2010        0\n",
              "3         38        33        29  ...   June  2010        0\n",
              "4         37        33        30  ...   June  2010        0\n",
              "\n",
              "[5 rows x 23 columns]"
            ]
          },
          "metadata": {
            "tags": []
          },
          "execution_count": 20
        }
      ]
    },
    {
      "cell_type": "code",
      "metadata": {
        "colab": {
          "base_uri": "https://localhost:8080/"
        },
        "id": "jkriORDomEps",
        "outputId": "c2f93bc4-cd5f-42f0-c968-beabbd2d8fed"
      },
      "source": [
        "X=df1.drop(['event','event_n'],axis='columns')\n",
        "y=df1['event_n']\n",
        "y.value_counts()"
      ],
      "execution_count": 21,
      "outputs": [
        {
          "output_type": "execute_result",
          "data": {
            "text/plain": [
              "0    168\n",
              "2     38\n",
              "1     27\n",
              "Name: event_n, dtype: int64"
            ]
          },
          "metadata": {
            "tags": []
          },
          "execution_count": 21
        }
      ]
    },
    {
      "cell_type": "code",
      "metadata": {
        "colab": {
          "base_uri": "https://localhost:8080/"
        },
        "id": "E5XEiwk1kpDw",
        "outputId": "eabe8752-4f1f-48ff-f876-52bbd4db3a18"
      },
      "source": [
        "from sklearn.model_selection import train_test_split\n",
        "X_train,X_test,y_train,y_test=train_test_split(X,y,test_size=0.3,random_state=15,stratify=y)\n",
        "y_test.value_counts()"
      ],
      "execution_count": 22,
      "outputs": [
        {
          "output_type": "execute_result",
          "data": {
            "text/plain": [
              "0    51\n",
              "2    11\n",
              "1     8\n",
              "Name: event_n, dtype: int64"
            ]
          },
          "metadata": {
            "tags": []
          },
          "execution_count": 22
        }
      ]
    },
    {
      "cell_type": "markdown",
      "metadata": {
        "id": "BBEJ8b_PxBIt"
      },
      "source": [
        "#4. Write python code to apply data transformation to whichever attributes needed for, and apply PCA for dimenstinality reduction on the  Dataset \"Wheather_Hyd\".\n"
      ]
    },
    {
      "cell_type": "code",
      "metadata": {
        "colab": {
          "base_uri": "https://localhost:8080/",
          "height": 224
        },
        "id": "8AudYFaqxAc8",
        "outputId": "f37442d7-76c6-40bc-8c7e-a255f9b03879"
      },
      "source": [
        "df3=df1.copy()\n",
        "df3.drop(['Preci_High','Preci_sum','event','month','year','event_n'],axis=1,inplace=True)\n",
        "df3.head()"
      ],
      "execution_count": 23,
      "outputs": [
        {
          "output_type": "execute_result",
          "data": {
            "text/html": [
              "<div>\n",
              "<style scoped>\n",
              "    .dataframe tbody tr th:only-of-type {\n",
              "        vertical-align: middle;\n",
              "    }\n",
              "\n",
              "    .dataframe tbody tr th {\n",
              "        vertical-align: top;\n",
              "    }\n",
              "\n",
              "    .dataframe thead th {\n",
              "        text-align: right;\n",
              "    }\n",
              "</style>\n",
              "<table border=\"1\" class=\"dataframe\">\n",
              "  <thead>\n",
              "    <tr style=\"text-align: right;\">\n",
              "      <th></th>\n",
              "      <th>Temp_high</th>\n",
              "      <th>Temp_avg</th>\n",
              "      <th>Temp_low</th>\n",
              "      <th>Dew_High</th>\n",
              "      <th>Dew_Avg</th>\n",
              "      <th>Dew_low</th>\n",
              "      <th>Hum_high</th>\n",
              "      <th>Hum_avg</th>\n",
              "      <th>Hum_low</th>\n",
              "      <th>Sea_high</th>\n",
              "      <th>Sea_avg</th>\n",
              "      <th>Sea_low</th>\n",
              "      <th>Visib_high</th>\n",
              "      <th>Visib_avg</th>\n",
              "      <th>Visib_low</th>\n",
              "      <th>Wind_high</th>\n",
              "      <th>Wind_avg</th>\n",
              "    </tr>\n",
              "  </thead>\n",
              "  <tbody>\n",
              "    <tr>\n",
              "      <th>0</th>\n",
              "      <td>39</td>\n",
              "      <td>33</td>\n",
              "      <td>27</td>\n",
              "      <td>21</td>\n",
              "      <td>16</td>\n",
              "      <td>10</td>\n",
              "      <td>70</td>\n",
              "      <td>40</td>\n",
              "      <td>17</td>\n",
              "      <td>1012</td>\n",
              "      <td>1009</td>\n",
              "      <td>1007</td>\n",
              "      <td>8</td>\n",
              "      <td>5</td>\n",
              "      <td>3</td>\n",
              "      <td>24</td>\n",
              "      <td>16</td>\n",
              "    </tr>\n",
              "    <tr>\n",
              "      <th>1</th>\n",
              "      <td>36</td>\n",
              "      <td>31</td>\n",
              "      <td>26</td>\n",
              "      <td>17</td>\n",
              "      <td>14</td>\n",
              "      <td>12</td>\n",
              "      <td>57</td>\n",
              "      <td>35</td>\n",
              "      <td>25</td>\n",
              "      <td>1014</td>\n",
              "      <td>1010</td>\n",
              "      <td>1008</td>\n",
              "      <td>5</td>\n",
              "      <td>5</td>\n",
              "      <td>3</td>\n",
              "      <td>24</td>\n",
              "      <td>16</td>\n",
              "    </tr>\n",
              "    <tr>\n",
              "      <th>2</th>\n",
              "      <td>38</td>\n",
              "      <td>32</td>\n",
              "      <td>27</td>\n",
              "      <td>17</td>\n",
              "      <td>14</td>\n",
              "      <td>11</td>\n",
              "      <td>54</td>\n",
              "      <td>34</td>\n",
              "      <td>20</td>\n",
              "      <td>1014</td>\n",
              "      <td>1012</td>\n",
              "      <td>1008</td>\n",
              "      <td>7</td>\n",
              "      <td>6</td>\n",
              "      <td>3</td>\n",
              "      <td>24</td>\n",
              "      <td>13</td>\n",
              "    </tr>\n",
              "    <tr>\n",
              "      <th>3</th>\n",
              "      <td>38</td>\n",
              "      <td>33</td>\n",
              "      <td>29</td>\n",
              "      <td>18</td>\n",
              "      <td>14</td>\n",
              "      <td>10</td>\n",
              "      <td>48</td>\n",
              "      <td>30</td>\n",
              "      <td>18</td>\n",
              "      <td>1013</td>\n",
              "      <td>1010</td>\n",
              "      <td>1008</td>\n",
              "      <td>8</td>\n",
              "      <td>6</td>\n",
              "      <td>3</td>\n",
              "      <td>21</td>\n",
              "      <td>16</td>\n",
              "    </tr>\n",
              "    <tr>\n",
              "      <th>4</th>\n",
              "      <td>37</td>\n",
              "      <td>33</td>\n",
              "      <td>30</td>\n",
              "      <td>15</td>\n",
              "      <td>13</td>\n",
              "      <td>11</td>\n",
              "      <td>37</td>\n",
              "      <td>28</td>\n",
              "      <td>21</td>\n",
              "      <td>1012</td>\n",
              "      <td>1009</td>\n",
              "      <td>1006</td>\n",
              "      <td>8</td>\n",
              "      <td>7</td>\n",
              "      <td>3</td>\n",
              "      <td>26</td>\n",
              "      <td>16</td>\n",
              "    </tr>\n",
              "  </tbody>\n",
              "</table>\n",
              "</div>"
            ],
            "text/plain": [
              "   Temp_high  Temp_avg  Temp_low  ...  Visib_low  Wind_high  Wind_avg\n",
              "0         39        33        27  ...          3         24        16\n",
              "1         36        31        26  ...          3         24        16\n",
              "2         38        32        27  ...          3         24        13\n",
              "3         38        33        29  ...          3         21        16\n",
              "4         37        33        30  ...          3         26        16\n",
              "\n",
              "[5 rows x 17 columns]"
            ]
          },
          "metadata": {
            "tags": []
          },
          "execution_count": 23
        }
      ]
    },
    {
      "cell_type": "code",
      "metadata": {
        "id": "4XEW-_GBl4C9"
      },
      "source": [
        "from sklearn.preprocessing import StandardScaler"
      ],
      "execution_count": 24,
      "outputs": []
    },
    {
      "cell_type": "code",
      "metadata": {
        "colab": {
          "base_uri": "https://localhost:8080/"
        },
        "id": "OmIa2bNgl8eB",
        "outputId": "d7cf1fab-a814-446a-d948-30b6b9095eeb"
      },
      "source": [
        "scaler=StandardScaler()\n",
        "scaled_data=scaler.fit_transform(df3)\n",
        "scaled_data"
      ],
      "execution_count": 25,
      "outputs": [
        {
          "output_type": "execute_result",
          "data": {
            "text/plain": [
              "array([[ 0.43232646,  0.45390255,  0.38011059, ..., -0.15411083,\n",
              "         0.26675139,  1.62651053],\n",
              "       [-0.29063095, -0.19492747, -0.04364906, ..., -0.15411083,\n",
              "         0.26675139,  1.62651053],\n",
              "       [ 0.19134066,  0.12948754,  0.38011059, ..., -0.15411083,\n",
              "         0.26675139,  0.91770077],\n",
              "       ...,\n",
              "       [-2.21851737, -2.14141753, -1.73868769, ..., -0.15411083,\n",
              "        -0.06776462, -0.73618868],\n",
              "       [-1.25457416, -1.1681725 , -1.31492803, ..., -0.15411083,\n",
              "        -0.06776462,  0.44516092],\n",
              "       [-1.01358836, -1.1681725 , -1.31492803, ..., -0.15411083,\n",
              "        -0.40228062,  0.44516092]])"
            ]
          },
          "metadata": {
            "tags": []
          },
          "execution_count": 25
        }
      ]
    },
    {
      "cell_type": "code",
      "metadata": {
        "id": "7n-aObWln4jn"
      },
      "source": [
        "from sklearn.decomposition import PCA"
      ],
      "execution_count": 26,
      "outputs": []
    },
    {
      "cell_type": "code",
      "metadata": {
        "id": "uubl3b4pn5Uc"
      },
      "source": [
        "pca=PCA(n_components=2)"
      ],
      "execution_count": 27,
      "outputs": []
    },
    {
      "cell_type": "code",
      "metadata": {
        "id": "6QvfAt6cn7yH"
      },
      "source": [
        "x_pca=pca.fit_transform(scaled_data)"
      ],
      "execution_count": 28,
      "outputs": []
    },
    {
      "cell_type": "markdown",
      "metadata": {
        "id": "0vNyR6j7rLs4"
      },
      "source": [
        "#Reducing 17 columns into 2 columns"
      ]
    },
    {
      "cell_type": "code",
      "metadata": {
        "colab": {
          "base_uri": "https://localhost:8080/"
        },
        "id": "KhaImKnwn_gE",
        "outputId": "fcb6821f-2a66-4261-961e-eac7fd2155f3"
      },
      "source": [
        "scaled_data.shape"
      ],
      "execution_count": 29,
      "outputs": [
        {
          "output_type": "execute_result",
          "data": {
            "text/plain": [
              "(233, 17)"
            ]
          },
          "metadata": {
            "tags": []
          },
          "execution_count": 29
        }
      ]
    },
    {
      "cell_type": "code",
      "metadata": {
        "colab": {
          "base_uri": "https://localhost:8080/"
        },
        "id": "UGeoYq0boEm5",
        "outputId": "de6aec5b-ebb7-4ced-914f-ad50110ff946"
      },
      "source": [
        "x_pca.shape"
      ],
      "execution_count": 30,
      "outputs": [
        {
          "output_type": "execute_result",
          "data": {
            "text/plain": [
              "(233, 2)"
            ]
          },
          "metadata": {
            "tags": []
          },
          "execution_count": 30
        }
      ]
    },
    {
      "cell_type": "code",
      "metadata": {
        "colab": {
          "base_uri": "https://localhost:8080/"
        },
        "id": "ZPOEIYSjonm8",
        "outputId": "1b52cd77-4d84-443d-bb5d-57e177a88cf8"
      },
      "source": [
        "scaled_data"
      ],
      "execution_count": 31,
      "outputs": [
        {
          "output_type": "execute_result",
          "data": {
            "text/plain": [
              "array([[ 0.43232646,  0.45390255,  0.38011059, ..., -0.15411083,\n",
              "         0.26675139,  1.62651053],\n",
              "       [-0.29063095, -0.19492747, -0.04364906, ..., -0.15411083,\n",
              "         0.26675139,  1.62651053],\n",
              "       [ 0.19134066,  0.12948754,  0.38011059, ..., -0.15411083,\n",
              "         0.26675139,  0.91770077],\n",
              "       ...,\n",
              "       [-2.21851737, -2.14141753, -1.73868769, ..., -0.15411083,\n",
              "        -0.06776462, -0.73618868],\n",
              "       [-1.25457416, -1.1681725 , -1.31492803, ..., -0.15411083,\n",
              "        -0.06776462,  0.44516092],\n",
              "       [-1.01358836, -1.1681725 , -1.31492803, ..., -0.15411083,\n",
              "        -0.40228062,  0.44516092]])"
            ]
          },
          "metadata": {
            "tags": []
          },
          "execution_count": 31
        }
      ]
    },
    {
      "cell_type": "code",
      "metadata": {
        "colab": {
          "base_uri": "https://localhost:8080/"
        },
        "id": "fTB7Gd-1oszq",
        "outputId": "121546dc-7742-4d59-a4a1-fd43c07deffa"
      },
      "source": [
        "x_pca"
      ],
      "execution_count": 32,
      "outputs": [
        {
          "output_type": "execute_result",
          "data": {
            "text/plain": [
              "array([[-0.32569205,  1.72224404],\n",
              "       [ 0.22810124,  3.45807928],\n",
              "       [-0.85188783,  3.30993307],\n",
              "       [-1.57605991,  2.69873497],\n",
              "       [-2.274126  ,  2.45297224],\n",
              "       [-1.49364485,  2.31761271],\n",
              "       [-1.72201312,  1.82571022],\n",
              "       [-1.98353196,  2.30711729],\n",
              "       [ 1.43256948,  0.48044267],\n",
              "       [ 1.49609225,  0.10029479],\n",
              "       [ 1.6687424 ,  1.16283905],\n",
              "       [ 2.99501719, -1.06996959],\n",
              "       [ 3.67209283,  0.0379306 ],\n",
              "       [ 3.62359235,  1.23915011],\n",
              "       [ 2.64947635,  1.96332285],\n",
              "       [ 2.99222735,  2.22086478],\n",
              "       [ 2.40675656,  2.24251025],\n",
              "       [ 3.42005625,  1.34751212],\n",
              "       [ 3.82646139,  1.46562855],\n",
              "       [ 5.56183146,  2.62690687],\n",
              "       [ 3.76443729,  2.54575934],\n",
              "       [ 1.62357018,  2.5660105 ],\n",
              "       [ 2.79334332,  1.07633831],\n",
              "       [ 3.19953811,  1.46230009],\n",
              "       [ 2.35272009,  0.20675139],\n",
              "       [ 1.52792556,  0.41921571],\n",
              "       [ 1.39719139,  1.00367485],\n",
              "       [-0.39702617,  1.9248761 ],\n",
              "       [ 0.59999223,  0.69545269],\n",
              "       [ 2.35453186,  0.64878478],\n",
              "       [-2.13980821,  2.13020906],\n",
              "       [-2.47645212,  2.1107918 ],\n",
              "       [-3.41214654,  3.29306222],\n",
              "       [-3.08161387,  3.53714937],\n",
              "       [-3.70137649,  4.24263565],\n",
              "       [-3.85076776,  3.31353267],\n",
              "       [-4.51944382,  3.33525333],\n",
              "       [-3.05175643,  3.32777049],\n",
              "       [-0.6941223 ,  7.00614994],\n",
              "       [-2.43011266,  3.57952462],\n",
              "       [-3.36631262,  2.84912991],\n",
              "       [-2.98871488,  2.37790813],\n",
              "       [-2.77499519,  2.54361661],\n",
              "       [-2.94844554,  3.14089773],\n",
              "       [-1.61935739,  2.37867276],\n",
              "       [-0.86524809,  2.34982309],\n",
              "       [-0.03030964,  2.24899125],\n",
              "       [-2.2635084 ,  1.82763257],\n",
              "       [-2.82591426,  2.12589665],\n",
              "       [-3.50900261,  3.03051108],\n",
              "       [-2.56319675,  3.61964442],\n",
              "       [-1.45891384,  3.22710196],\n",
              "       [-1.43652179,  2.24735934],\n",
              "       [-1.26533742,  2.38894658],\n",
              "       [-0.16813702,  3.36231713],\n",
              "       [-1.439258  ,  1.36850812],\n",
              "       [ 1.22373709,  2.64079018],\n",
              "       [-1.8151629 ,  2.07904523],\n",
              "       [-1.87053628,  1.8783436 ],\n",
              "       [-0.24987133,  1.61224083],\n",
              "       [-1.11585315, -1.30155495],\n",
              "       [-2.74517188, -0.61615716],\n",
              "       [-2.70582331, -0.54005938],\n",
              "       [-2.26660717, -0.8505126 ],\n",
              "       [-2.51930433, -0.37316116],\n",
              "       [-1.31789032,  0.46969523],\n",
              "       [-1.88832844, -0.43260452],\n",
              "       [-1.42701425, -0.19981567],\n",
              "       [-0.323198  ,  0.8871514 ],\n",
              "       [-0.44312435, -0.38306122],\n",
              "       [ 0.39645228, -1.72243014],\n",
              "       [ 0.25472352, -0.66789448],\n",
              "       [-0.7044578 , -0.80730811],\n",
              "       [-1.43271046, -0.40348278],\n",
              "       [-1.83486728, -0.7529392 ],\n",
              "       [-3.70120714, -0.66718418],\n",
              "       [-2.42285824, -0.03376963],\n",
              "       [-2.70429197, -0.1421061 ],\n",
              "       [-1.38599572, -2.20260421],\n",
              "       [-3.14198318, -1.35170141],\n",
              "       [-3.01470265, -1.30349183],\n",
              "       [-2.91430094, -1.47034981],\n",
              "       [-3.3757328 , -1.81494864],\n",
              "       [-3.42260309, -1.66267512],\n",
              "       [-2.6307596 , -2.33264629],\n",
              "       [-3.5219822 , -1.20841982],\n",
              "       [-3.30469661, -1.62731024],\n",
              "       [-2.68281451, -0.63091093],\n",
              "       [-3.86602398, -1.51795943],\n",
              "       [-3.8073053 , -2.01469124],\n",
              "       [-2.59261898, -0.84453566],\n",
              "       [-3.40291951, -1.60193219],\n",
              "       [-2.75660745, -1.83846851],\n",
              "       [-2.36943333, -2.58344978],\n",
              "       [-0.79174791, -2.11895841],\n",
              "       [-0.77392252, -1.19901648],\n",
              "       [-1.60503087, -1.97193027],\n",
              "       [-2.66198594, -0.89014652],\n",
              "       [-4.03933488, -0.58642607],\n",
              "       [-4.05235661, -1.81398871],\n",
              "       [-3.16166449, -0.1502974 ],\n",
              "       [-3.48873157, -1.511612  ],\n",
              "       [-3.40596276, -2.46627699],\n",
              "       [-2.31023656, -2.6034192 ],\n",
              "       [-3.14006474, -1.49944639],\n",
              "       [-2.40030621, -0.62859918],\n",
              "       [-3.87330645, -0.40919851],\n",
              "       [-2.04002891, -0.82856077],\n",
              "       [-3.49623307, -1.3814041 ],\n",
              "       [-3.73034646,  0.13726485],\n",
              "       [-4.42840859, -1.58707834],\n",
              "       [-4.65194883, -1.12690699],\n",
              "       [-5.05185528,  0.11167441],\n",
              "       [-3.36374912, -0.64794851],\n",
              "       [-2.92301606, -1.07350972],\n",
              "       [-1.23126968, -0.32588814],\n",
              "       [-0.51998198, -0.66354167],\n",
              "       [ 0.39457672, -1.59315785],\n",
              "       [ 2.28503451, -1.95304291],\n",
              "       [-0.10144456, -2.32567864],\n",
              "       [-1.14053635, -0.72757214],\n",
              "       [-0.3553179 , -0.05664994],\n",
              "       [ 0.43246331,  0.24807077],\n",
              "       [ 1.85729113,  0.48963446],\n",
              "       [ 1.01532756, -0.44183769],\n",
              "       [ 1.61965501, -0.05534681],\n",
              "       [ 6.22182102,  0.10792979],\n",
              "       [ 1.90027035, -1.03760852],\n",
              "       [-0.82858341,  0.55999429],\n",
              "       [-0.93375035,  0.87995588],\n",
              "       [-1.44749085,  0.2101199 ],\n",
              "       [-1.83647255, -0.15755169],\n",
              "       [-1.76845232, -0.0822712 ],\n",
              "       [-0.95215879, -0.54410837],\n",
              "       [-1.03188952, -0.26528101],\n",
              "       [-0.08583896, -0.14347535],\n",
              "       [-0.78691362,  0.04355438],\n",
              "       [-0.236521  , -1.17810768],\n",
              "       [-2.17143228, -1.5214477 ],\n",
              "       [-2.97750037, -1.6481321 ],\n",
              "       [-3.02457578, -1.30730788],\n",
              "       [-2.12644388, -2.42046687],\n",
              "       [ 1.55610479, -0.24612711],\n",
              "       [ 0.21377479, -1.13088009],\n",
              "       [-0.93428873, -0.63663522],\n",
              "       [-1.75440411, -1.58761071],\n",
              "       [-2.23459953,  0.23600508],\n",
              "       [-1.39478999, -0.04884013],\n",
              "       [-0.91682497,  0.48659843],\n",
              "       [ 0.75304526,  0.28064049],\n",
              "       [-0.02578353,  0.83300447],\n",
              "       [-0.90419633,  0.37354269],\n",
              "       [-0.06025041,  0.4189809 ],\n",
              "       [-1.72128033,  0.04948433],\n",
              "       [-1.31395011, -0.97271234],\n",
              "       [-1.34728913, -0.14401391],\n",
              "       [-0.08042507,  0.56717976],\n",
              "       [-1.06218205,  0.48337949],\n",
              "       [-0.17593572, -0.16029156],\n",
              "       [ 0.17226618,  0.35038157],\n",
              "       [ 1.87243078,  0.86531399],\n",
              "       [ 2.4335078 , -0.05710734],\n",
              "       [ 0.68304917, -1.58639039],\n",
              "       [-1.24260296, -1.87296415],\n",
              "       [-1.56349951, -2.55196517],\n",
              "       [-2.4385081 , -1.6637527 ],\n",
              "       [-3.60817256, -2.08487623],\n",
              "       [-2.72857453, -1.52579075],\n",
              "       [-2.63373795, -1.96410308],\n",
              "       [-2.79854701, -1.00975484],\n",
              "       [-2.45948612, -1.00836872],\n",
              "       [-3.60513982, -0.68247509],\n",
              "       [-2.30083328, -2.61197345],\n",
              "       [-1.54269337, -2.61750255],\n",
              "       [-0.62740924, -0.69650822],\n",
              "       [-1.53548284, -1.93122699],\n",
              "       [ 0.29369334, -1.03142858],\n",
              "       [ 2.42712188, -0.02380023],\n",
              "       [ 1.68547058, -1.59467275],\n",
              "       [ 3.50091136, -0.01284066],\n",
              "       [ 4.10599338,  0.36458667],\n",
              "       [ 4.12044921,  0.2001164 ],\n",
              "       [ 4.71699104,  0.24627525],\n",
              "       [ 4.94838866, -0.28632429],\n",
              "       [ 2.89578691, -0.3127177 ],\n",
              "       [ 0.54383801, -0.57875782],\n",
              "       [ 3.52736579,  0.4039665 ],\n",
              "       [ 3.05850846,  1.24156462],\n",
              "       [ 3.22655152,  1.11076189],\n",
              "       [ 1.17070733, -0.5765726 ],\n",
              "       [ 0.76309197, -0.84327881],\n",
              "       [ 0.26994126, -1.48514314],\n",
              "       [ 0.62650597, -1.8180938 ],\n",
              "       [ 4.24229535,  0.43706025],\n",
              "       [ 6.14784609,  0.06099295],\n",
              "       [ 5.30352213, -1.33408422],\n",
              "       [ 3.33560747, -1.3482013 ],\n",
              "       [ 4.15496698, -0.98961396],\n",
              "       [ 2.89383825, -0.55065905],\n",
              "       [ 4.11432644,  0.06887367],\n",
              "       [ 4.62374118, -1.89177389],\n",
              "       [ 6.08831462, -0.12687882],\n",
              "       [ 5.54686342, -0.21447225],\n",
              "       [ 4.69617959,  0.31916626],\n",
              "       [-0.28222306, -2.34258306],\n",
              "       [ 0.52685247, -2.86755401],\n",
              "       [ 2.26032385, -0.89204219],\n",
              "       [ 0.36729538, -1.35298954],\n",
              "       [ 1.95933139, -0.4406286 ],\n",
              "       [ 2.79823201,  0.85453939],\n",
              "       [ 4.94160456, -0.38437062],\n",
              "       [ 3.30946041, -1.22817925],\n",
              "       [ 3.50266818, -1.32937481],\n",
              "       [ 3.79158539, -1.47471245],\n",
              "       [ 4.71347911, -1.5846974 ],\n",
              "       [ 5.81778751, -0.48404476],\n",
              "       [ 4.92302591,  0.29207477],\n",
              "       [ 4.56670313,  0.11867053],\n",
              "       [ 4.79682748,  0.38073403],\n",
              "       [ 4.25900676, -0.18986638],\n",
              "       [ 4.17364042, -0.83494364],\n",
              "       [ 6.39550595,  0.03671041],\n",
              "       [ 4.15551543, -0.44607407],\n",
              "       [ 3.55206305, -0.38637185],\n",
              "       [ 3.50253462, -0.38544085],\n",
              "       [ 5.31804911,  0.10263999],\n",
              "       [ 3.78308957, -1.91831431],\n",
              "       [ 3.92626271, -2.12464087],\n",
              "       [ 5.20928868, -0.93482004],\n",
              "       [ 4.84849344, -1.23663871],\n",
              "       [ 5.98320273,  0.16231361],\n",
              "       [ 4.38250486, -0.29447439],\n",
              "       [ 3.75848566, -1.33577913]])"
            ]
          },
          "metadata": {
            "tags": []
          },
          "execution_count": 32
        }
      ]
    },
    {
      "cell_type": "code",
      "metadata": {
        "colab": {
          "base_uri": "https://localhost:8080/",
          "height": 422
        },
        "id": "rrAv4r8xozre",
        "outputId": "bc4d4f23-24e3-49e5-e67d-dfa4057a52e0"
      },
      "source": [
        "\n",
        "plt.figure(figsize=(8,6))\n",
        "plt.scatter(x_pca[:,0],x_pca[:,1],c=df1['event_n'])\n",
        "plt.xlabel('First principle component')\n",
        "plt.ylabel('Second principle component')\n",
        "plt.legend()"
      ],
      "execution_count": 33,
      "outputs": [
        {
          "output_type": "stream",
          "text": [
            "No handles with labels found to put in legend.\n"
          ],
          "name": "stderr"
        },
        {
          "output_type": "execute_result",
          "data": {
            "text/plain": [
              "<matplotlib.legend.Legend at 0x7eff1fa81590>"
            ]
          },
          "metadata": {
            "tags": []
          },
          "execution_count": 33
        },
        {
          "output_type": "display_data",
          "data": {
            "image/png": "[encoded data removed]",
            "text/plain": [
              "<Figure size 576x432 with 1 Axes>"
            ]
          },
          "metadata": {
            "tags": [],
            "needs_background": "light"
          }
        }
      ]
    },
    {
      "cell_type": "markdown",
      "metadata": {
        "id": "iYVA3linsPpF"
      },
      "source": [
        "#5. Write python code to handle the noisy data given below, using binning method (smooth by means, median, boundary), and kmean clustering.\n",
        "\n",
        "  data=[ 2,5,10,20,40,25,30,60,40,50,55, 15,35,125,45,-85]"
      ]
    },
    {
      "cell_type": "code",
      "metadata": {
        "colab": {
          "base_uri": "https://localhost:8080/",
          "height": 204
        },
        "id": "SRnDJ_W1sVkh",
        "outputId": "36892db4-1cdf-48ad-d220-5cb1d768ec51"
      },
      "source": [
        "data=[ 2,5,10,20,40,25,30,60,40,50,55, 15,35,125,45,-85]\n",
        "df4=pd.DataFrame(data,columns=['Data'])\n",
        "df4.head()"
      ],
      "execution_count": 34,
      "outputs": [
        {
          "output_type": "execute_result",
          "data": {
            "text/html": [
              "<div>\n",
              "<style scoped>\n",
              "    .dataframe tbody tr th:only-of-type {\n",
              "        vertical-align: middle;\n",
              "    }\n",
              "\n",
              "    .dataframe tbody tr th {\n",
              "        vertical-align: top;\n",
              "    }\n",
              "\n",
              "    .dataframe thead th {\n",
              "        text-align: right;\n",
              "    }\n",
              "</style>\n",
              "<table border=\"1\" class=\"dataframe\">\n",
              "  <thead>\n",
              "    <tr style=\"text-align: right;\">\n",
              "      <th></th>\n",
              "      <th>Data</th>\n",
              "    </tr>\n",
              "  </thead>\n",
              "  <tbody>\n",
              "    <tr>\n",
              "      <th>0</th>\n",
              "      <td>2</td>\n",
              "    </tr>\n",
              "    <tr>\n",
              "      <th>1</th>\n",
              "      <td>5</td>\n",
              "    </tr>\n",
              "    <tr>\n",
              "      <th>2</th>\n",
              "      <td>10</td>\n",
              "    </tr>\n",
              "    <tr>\n",
              "      <th>3</th>\n",
              "      <td>20</td>\n",
              "    </tr>\n",
              "    <tr>\n",
              "      <th>4</th>\n",
              "      <td>40</td>\n",
              "    </tr>\n",
              "  </tbody>\n",
              "</table>\n",
              "</div>"
            ],
            "text/plain": [
              "   Data\n",
              "0     2\n",
              "1     5\n",
              "2    10\n",
              "3    20\n",
              "4    40"
            ]
          },
          "metadata": {
            "tags": []
          },
          "execution_count": 34
        }
      ]
    },
    {
      "cell_type": "code",
      "metadata": {
        "colab": {
          "base_uri": "https://localhost:8080/",
          "height": 204
        },
        "id": "5LKC1K9MqHhM",
        "outputId": "11e8b710-4ef5-460e-c09a-dabaf045bb30"
      },
      "source": [
        "df4.sort_values(by=['Data'],inplace=True)\n",
        "df4.head()"
      ],
      "execution_count": 35,
      "outputs": [
        {
          "output_type": "execute_result",
          "data": {
            "text/html": [
              "<div>\n",
              "<style scoped>\n",
              "    .dataframe tbody tr th:only-of-type {\n",
              "        vertical-align: middle;\n",
              "    }\n",
              "\n",
              "    .dataframe tbody tr th {\n",
              "        vertical-align: top;\n",
              "    }\n",
              "\n",
              "    .dataframe thead th {\n",
              "        text-align: right;\n",
              "    }\n",
              "</style>\n",
              "<table border=\"1\" class=\"dataframe\">\n",
              "  <thead>\n",
              "    <tr style=\"text-align: right;\">\n",
              "      <th></th>\n",
              "      <th>Data</th>\n",
              "    </tr>\n",
              "  </thead>\n",
              "  <tbody>\n",
              "    <tr>\n",
              "      <th>15</th>\n",
              "      <td>-85</td>\n",
              "    </tr>\n",
              "    <tr>\n",
              "      <th>0</th>\n",
              "      <td>2</td>\n",
              "    </tr>\n",
              "    <tr>\n",
              "      <th>1</th>\n",
              "      <td>5</td>\n",
              "    </tr>\n",
              "    <tr>\n",
              "      <th>2</th>\n",
              "      <td>10</td>\n",
              "    </tr>\n",
              "    <tr>\n",
              "      <th>11</th>\n",
              "      <td>15</td>\n",
              "    </tr>\n",
              "  </tbody>\n",
              "</table>\n",
              "</div>"
            ],
            "text/plain": [
              "    Data\n",
              "15   -85\n",
              "0      2\n",
              "1      5\n",
              "2     10\n",
              "11    15"
            ]
          },
          "metadata": {
            "tags": []
          },
          "execution_count": 35
        }
      ]
    },
    {
      "cell_type": "code",
      "metadata": {
        "colab": {
          "base_uri": "https://localhost:8080/"
        },
        "id": "Y1RALM6osrgz",
        "outputId": "512837a9-8c0c-4d3e-b089-5361097b8f55"
      },
      "source": [
        "data=np.sort(data)\n",
        "print(data)"
      ],
      "execution_count": 36,
      "outputs": [
        {
          "output_type": "stream",
          "text": [
            "[-85   2   5  10  15  20  25  30  35  40  40  45  50  55  60 125]\n"
          ],
          "name": "stdout"
        }
      ]
    },
    {
      "cell_type": "markdown",
      "metadata": {
        "id": "Knx5IXpnvxfu"
      },
      "source": [
        "#Binning by mean:\n",
        "\n",
        "\n",
        "\n",
        "\n",
        "*   (-85+2+5+10)/4        ---> -17.\n",
        "*   (15+20+25+30)/4       ---> 22.5\n",
        "\n",
        "\n",
        "*   (35+40+40+45)/4       ---> 40.0\n",
        "*   (50+55+60+125)/4      ---> 72.5\n",
        "\n",
        "\n",
        "\n",
        "\n"
      ]
    },
    {
      "cell_type": "code",
      "metadata": {
        "id": "qNjcuFFPs2lW"
      },
      "source": [
        "b1=np.zeros((4,4)) \n"
      ],
      "execution_count": 37,
      "outputs": []
    },
    {
      "cell_type": "code",
      "metadata": {
        "colab": {
          "base_uri": "https://localhost:8080/"
        },
        "id": "-Zw3Q5Xeuf29",
        "outputId": "a4ca718c-2180-4eb3-b58e-f69ce5b2b76e"
      },
      "source": [
        "for i in range (0,16,4): \n",
        "  k=int(i/4) \n",
        "  mean=(data[i] + data[i+1] + data[i+2] +data[i+3])/4\n",
        "  for j in range(4): \n",
        "    b1[k,j]=mean \n",
        "\n",
        "print(\"-----------------Mean Bin:----------------- \\n\",b1)"
      ],
      "execution_count": 38,
      "outputs": [
        {
          "output_type": "stream",
          "text": [
            "-----------------Mean Bin:----------------- \n",
            " [[-17.  -17.  -17.  -17. ]\n",
            " [ 22.5  22.5  22.5  22.5]\n",
            " [ 40.   40.   40.   40. ]\n",
            " [ 72.5  72.5  72.5  72.5]]\n"
          ],
          "name": "stdout"
        }
      ]
    },
    {
      "cell_type": "markdown",
      "metadata": {
        "id": "KWFfyRIbxAjk"
      },
      "source": [
        "#Median Bin"
      ]
    },
    {
      "cell_type": "code",
      "metadata": {
        "colab": {
          "base_uri": "https://localhost:8080/"
        },
        "id": "9-P328miw8cH",
        "outputId": "699e695b-fb49-49f6-d237-a4804516f6ee"
      },
      "source": [
        "for i in range (0,16,4): \n",
        "  k=int(i/4) \n",
        "  for j in range (4): \n",
        "    b1[k,j]=data[i+1] \n",
        "print(\"-----------------Median Bin :----------------- \\n\",b1)"
      ],
      "execution_count": 39,
      "outputs": [
        {
          "output_type": "stream",
          "text": [
            "-----------------Median Bin :----------------- \n",
            " [[ 2.  2.  2.  2.]\n",
            " [20. 20. 20. 20.]\n",
            " [40. 40. 40. 40.]\n",
            " [55. 55. 55. 55.]]\n"
          ],
          "name": "stdout"
        }
      ]
    },
    {
      "cell_type": "markdown",
      "metadata": {
        "id": "AzD_QslqoV5c"
      },
      "source": [
        "#Boundary Bin\n",
        "\n",
        "\n",
        "*   [-85   2   5  10  15  20  25  30  35  40  40  45  50  55  60 125]\n",
        "\n"
      ]
    },
    {
      "cell_type": "code",
      "metadata": {
        "colab": {
          "base_uri": "https://localhost:8080/"
        },
        "id": "-wW2AneAoaW1",
        "outputId": "7f9a6c1f-df2e-43f9-ce76-2d9b04121db2"
      },
      "source": [
        "for i in range (0,16,4): \n",
        "  k=int(i/4) \n",
        "  for j in range (4): \n",
        "    if (data[i+j]-data[i]) < (data[i+3]-data[i+j]): \n",
        "      b1[k,j]=data[i] \n",
        "    else: \n",
        "      b1[k,j]=data[i+3]   \n",
        "\n",
        "print(\"-----------------Boundary Bin:----------------- \\n\",b1)"
      ],
      "execution_count": 40,
      "outputs": [
        {
          "output_type": "stream",
          "text": [
            "-----------------Boundary Bin:----------------- \n",
            " [[-85.  10.  10.  10.]\n",
            " [ 15.  15.  30.  30.]\n",
            " [ 35.  45.  45.  45.]\n",
            " [ 50.  50.  50. 125.]]\n"
          ],
          "name": "stdout"
        }
      ]
    },
    {
      "cell_type": "markdown",
      "metadata": {
        "id": "NpigcV9ypQ9r"
      },
      "source": [
        "#KMeans Clustering:"
      ]
    },
    {
      "cell_type": "code",
      "metadata": {
        "id": "9Pi546p-pVqr"
      },
      "source": [
        "from sklearn.cluster import KMeans"
      ],
      "execution_count": 41,
      "outputs": []
    },
    {
      "cell_type": "code",
      "metadata": {
        "colab": {
          "base_uri": "https://localhost:8080/"
        },
        "id": "7JuNJESHltZp",
        "outputId": "c4d6034b-46b4-46a6-abfe-28c2b8a35b21"
      },
      "source": [
        "data"
      ],
      "execution_count": 42,
      "outputs": [
        {
          "output_type": "execute_result",
          "data": {
            "text/plain": [
              "array([-85,   2,   5,  10,  15,  20,  25,  30,  35,  40,  40,  45,  50,\n",
              "        55,  60, 125])"
            ]
          },
          "metadata": {
            "tags": []
          },
          "execution_count": 42
        }
      ]
    },
    {
      "cell_type": "code",
      "metadata": {
        "colab": {
          "base_uri": "https://localhost:8080/"
        },
        "id": "fhgqfWZQwd78",
        "outputId": "7eac9521-cb8f-443d-d549-75aeb2887e93"
      },
      "source": [
        "kmeans=KMeans(n_clusters=4).fit(data.reshape(-1,1))\n",
        "kmeans.predict(data.reshape(-1,1))"
      ],
      "execution_count": 44,
      "outputs": [
        {
          "output_type": "execute_result",
          "data": {
            "text/plain": [
              "array([1, 3, 3, 3, 3, 3, 3, 0, 0, 0, 0, 0, 0, 0, 0, 2], dtype=int32)"
            ]
          },
          "metadata": {
            "tags": []
          },
          "execution_count": 44
        }
      ]
    },
    {
      "cell_type": "code",
      "metadata": {
        "colab": {
          "base_uri": "https://localhost:8080/"
        },
        "id": "bsUjrvNHnC53",
        "outputId": "d4a0c6bb-cd33-4eb9-9a3a-d83b90939538"
      },
      "source": [
        "kmeans.cluster_centers_"
      ],
      "execution_count": 45,
      "outputs": [
        {
          "output_type": "execute_result",
          "data": {
            "text/plain": [
              "array([[ 44.375     ],\n",
              "       [-85.        ],\n",
              "       [125.        ],\n",
              "       [ 12.83333333]])"
            ]
          },
          "metadata": {
            "tags": []
          },
          "execution_count": 45
        }
      ]
    }
  ]
}